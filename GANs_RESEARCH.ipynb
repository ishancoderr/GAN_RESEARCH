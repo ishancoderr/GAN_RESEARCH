{
  "nbformat": 4,
  "nbformat_minor": 0,
  "metadata": {
    "colab": {
      "name": "Untitled62.ipynb",
      "provenance": [],
      "authorship_tag": "ABX9TyN75+8amsjk6Iu8ns1O0pay",
      "include_colab_link": true
    },
    "kernelspec": {
      "name": "python3",
      "display_name": "Python 3"
    },
    "language_info": {
      "name": "python"
    }
  },
  "cells": [
    {
      "cell_type": "markdown",
      "metadata": {
        "id": "view-in-github",
        "colab_type": "text"
      },
      "source": [
        "<a href=\"https://colab.research.google.com/github/ishancoderr/GAN_RESEARCH/blob/main/GANs_RESEARCH.ipynb\" target=\"_parent\"><img src=\"https://colab.research.google.com/assets/colab-badge.svg\" alt=\"Open In Colab\"/></a>"
      ]
    },
    {
      "cell_type": "markdown",
      "source": [
        "# **import libraries**"
      ],
      "metadata": {
        "id": "IUe0A3dxdWd7"
      }
    },
    {
      "cell_type": "markdown",
      "source": [
        "* tf. function is a decorator function provided by Tensorflow 2.0\n",
        "* NumPy is a Python library used for working with arrays\n",
        "* Python has a set of built-in math functions, including an extensive math     module, that allows you to perform mathematical tasks on numbers.\n",
        "* matplotlib.pyplot is a plotting library used for 2D graphics in python  programming language.\n",
        "* The OS module in Python provides a way of using operating system dependent\n",
        "functionality. "
      ],
      "metadata": {
        "id": "Ol4LlxnAdxYu"
      }
    },
    {
      "cell_type": "code",
      "source": [
        "import tensorflow as tf\n",
        "import numpy as np\n",
        "import math\n",
        "import matplotlib.pyplot as plt\n",
        "import os"
      ],
      "metadata": {
        "id": "Z83ZD15NeuND"
      },
      "execution_count": null,
      "outputs": []
    },
    {
      "cell_type": "markdown",
      "source": [
        "# **Buiding a Generator Model**"
      ],
      "metadata": {
        "id": "vTgDzC-Tw_Gl"
      }
    },
    {
      "cell_type": "markdown",
      "source": [
        "**Deep Convolutional Generative Adversarial Network**"
      ],
      "metadata": {
        "id": "PtJqqWIKxG-l"
      }
    },
    {
      "cell_type": "markdown",
      "source": [
        "First, a 100*1 noise vector is obtained, which is then converted to a 3D \n",
        "vector, which is then sent via a Transpose convolution layers.\n",
        "\n",
        "then upsample several times until you reach the desired image size of 28x28x1. \n",
        "\n",
        "***Arguments***\n",
        "\n",
        "strides: An integer or tuple/list of 2 integers, specifying the strides of the convolution along the height and width. Can be a single integer to specify the same value for all spatial dimensions. Specifying any stride value != 1 is incompatible with specifying any dilation_rate value != 1.\n",
        "\n",
        "padding: one of \"valid\" or \"same\" (case-insensitive). \"valid\" means no padding. \"same\" results in padding with zeros evenly to the left/right or up/down of the input. When padding=\"same\" and strides=1, the output has the same size as the input."
      ],
      "metadata": {
        "id": "P2tgRbTdx95E"
      }
    },
    {
      "cell_type": "code",
      "source": [
        "def build_generator(image_size=28, inputSize=100):\n",
        "    \n",
        "    #Build an input layer\n",
        "    gen_input = tf.keras.layers.Input(shape=(inputSize,))\n",
        "    \n",
        "    #Increase dimensions and resize to 3D to feed it to Conv2DTranspose layer\n",
        "    m = tf.keras.layers.Dense(7 * 7 * 128)(gen_input)\n",
        "    x = tf.keras.layers.Reshape((7, 7, 128))(m)\n",
        "    \n",
        "    #Use ConvTranspose\n",
        "    x = tf.keras.layers.BatchNormalization()(x)\n",
        "    x = tf.keras.layers.Activation('relu')(x)\n",
        "\n",
        "    #convelution kernel size is 5*5\n",
        "\n",
        "    x = tf.keras.layers.Conv2DTranspose(128, kernel_size=[5,5], strides=2, padding='same')(x)\n",
        "    #14*14*128\n",
        "    x = tf.keras.layers.BatchNormalization()(x)\n",
        "    x = tf.keras.layers.Activation('relu')(x)\n",
        "    x = tf.keras.layers.Conv2DTranspose(64, kernel_size=[5,5], strides=2, padding='same')(x)\n",
        "    #28*28*64\n",
        "    \n",
        "    x = tf.keras.layers.BatchNormalization()(x)\n",
        "    x = tf.keras.layers.Activation('relu')(x)\n",
        "    x = tf.keras.layers.Conv2DTranspose(32, kernel_size=[5,5], strides=1, padding='same')(x)\n",
        "    #28*28*32\n",
        "    \n",
        "    x = tf.keras.layers.BatchNormalization()(x)\n",
        "    x = tf.keras.layers.Activation('relu')(x)\n",
        "    x = tf.keras.layers.Conv2DTranspose(1, kernel_size=[5,5], strides=1, padding='same')(x)\n",
        "    #28*28*1\n",
        "    \n",
        "    #Output layer for Generator\n",
        "    x = tf.keras.layers.Activation('sigmoid')(x)\n",
        "    \n",
        "    #Build model using Model API\n",
        "    generator = tf.keras.models.Model(gen_input, x, name='generator')\n",
        "    \n",
        "    return generator"
      ],
      "metadata": {
        "id": "tkGXPwE7xPLd"
      },
      "execution_count": 3,
      "outputs": []
    },
    {
      "cell_type": "markdown",
      "source": [
        "# Building a Discriminator"
      ],
      "metadata": {
        "id": "XpUi1GUZMrWA"
      }
    },
    {
      "cell_type": "code",
      "source": [
        "def build_discriminator(data_shape=[28,28,1,]):\n",
        "    \n",
        "    #Build the network\n",
        "    dis_input = tf.keras.layers.Input(data_shape)\n",
        "    x = tf.keras.layers.LeakyReLU(alpha=0.2)(dis_input)\n",
        "    x = tf.keras.layers.Conv2D(32, kernel_size=[5,5], strides=2, padding='same')(x)\n",
        "    \n",
        "    x = tf.keras.layers.LeakyReLU(alpha=0.2)(x)\n",
        "    x = tf.keras.layers.Conv2D(64, kernel_size=[5,5], strides=2, padding='same')(x)\n",
        "    \n",
        "    x = tf.keras.layers.LeakyReLU(alpha=0.2)(x)\n",
        "    x = tf.keras.layers.Conv2D(128, kernel_size=[5,5], strides=2, padding='same')(x)\n",
        "    \n",
        "    x = tf.keras.layers.LeakyReLU(alpha=0.2)(x)\n",
        "    x = tf.keras.layers.Conv2D(256, kernel_size=[5,5], strides=1, padding='same')(x)\n",
        "    \n",
        "    #Flatten the output and build an output layer\n",
        "    x = tf.keras.layers.Flatten()(x)\n",
        "    x = tf.keras.layers.Dense(1, activation='sigmoid')(x)\n",
        "    \n",
        "    #Build Model\n",
        "    discriminator = tf.keras.models.Model(dis_input, x, name='discriminator')\n",
        "    \n",
        "    return discriminator"
      ],
      "metadata": {
        "id": "7axbFssoMv2L"
      },
      "execution_count": 4,
      "outputs": []
    }
  ]
}
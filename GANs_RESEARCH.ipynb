{
  "nbformat": 4,
  "nbformat_minor": 0,
  "metadata": {
    "colab": {
      "name": "Untitled62.ipynb",
      "provenance": [],
      "authorship_tag": "ABX9TyP5JhMPPdyX8ONoo35/aItX",
      "include_colab_link": true
    },
    "kernelspec": {
      "name": "python3",
      "display_name": "Python 3"
    },
    "language_info": {
      "name": "python"
    }
  },
  "cells": [
    {
      "cell_type": "markdown",
      "metadata": {
        "id": "view-in-github",
        "colab_type": "text"
      },
      "source": [
        "<a href=\"https://colab.research.google.com/github/ishancoderr/GAN_RESEARCH/blob/main/GANs_RESEARCH.ipynb\" target=\"_parent\"><img src=\"https://colab.research.google.com/assets/colab-badge.svg\" alt=\"Open In Colab\"/></a>"
      ]
    },
    {
      "cell_type": "markdown",
      "source": [
        "# **import libraries**"
      ],
      "metadata": {
        "id": "IUe0A3dxdWd7"
      }
    },
    {
      "cell_type": "markdown",
      "source": [
        "* tf. function is a decorator function provided by Tensorflow 2.0\n",
        "* NumPy is a Python library used for working with arrays\n",
        "* Python has a set of built-in math functions, including an extensive math     module, that allows you to perform mathematical tasks on numbers.\n",
        "* matplotlib.pyplot is a plotting library used for 2D graphics in python  programming language.\n",
        "* The OS module in Python provides a way of using operating system dependent\n",
        "functionality. "
      ],
      "metadata": {
        "id": "Ol4LlxnAdxYu"
      }
    },
    {
      "cell_type": "code",
      "source": [
        "import tensorflow as tf\n",
        "import numpy as np\n",
        "import math\n",
        "import matplotlib.pyplot as plt\n",
        "import os"
      ],
      "metadata": {
        "id": "Z83ZD15NeuND"
      },
      "execution_count": 1,
      "outputs": []
    },
    {
      "cell_type": "markdown",
      "source": [
        "# **Buiding a Generator Model**"
      ],
      "metadata": {
        "id": "vTgDzC-Tw_Gl"
      }
    },
    {
      "cell_type": "markdown",
      "source": [
        ""
      ],
      "metadata": {
        "id": "PtJqqWIKxG-l"
      }
    },
    {
      "cell_type": "code",
      "source": [
        ""
      ],
      "metadata": {
        "id": "tkGXPwE7xPLd"
      },
      "execution_count": null,
      "outputs": []
    }
  ]
}
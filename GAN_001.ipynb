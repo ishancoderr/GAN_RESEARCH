{
  "nbformat": 4,
  "nbformat_minor": 0,
  "metadata": {
    "colab": {
      "name": "Untitled62.ipynb",
      "provenance": [],
      "authorship_tag": "ABX9TyMo9SeQSiwIOZKMkRUED/IR",
      "include_colab_link": true
    },
    "kernelspec": {
      "name": "python3",
      "display_name": "Python 3"
    },
    "language_info": {
      "name": "python"
    }
  },
  "cells": [
    {
      "cell_type": "markdown",
      "metadata": {
        "id": "view-in-github",
        "colab_type": "text"
      },
      "source": [
        "<a href=\"https://colab.research.google.com/github/ishancoderr/GAN_RESEARCH/blob/main/GAN_001.ipynb\" target=\"_parent\"><img src=\"https://colab.research.google.com/assets/colab-badge.svg\" alt=\"Open In Colab\"/></a>"
      ]
    },
    {
      "cell_type": "markdown",
      "source": [
        "# **import libraries**"
      ],
      "metadata": {
        "id": "IUe0A3dxdWd7"
      }
    },
    {
      "cell_type": "markdown",
      "source": [
        "* tf. function is a decorator function provided by Tensorflow 2.0\n",
        "* NumPy is a Python library used for working with arrays\n",
        "* Python has a set of built-in math functions, including an extensive math     module, that allows you to perform mathematical tasks on numbers.\n",
        "* matplotlib.pyplot is a plotting library used for 2D graphics in python  programming language.\n",
        "* The OS module in Python provides a way of using operating system dependent\n",
        "functionality. "
      ],
      "metadata": {
        "id": "Ol4LlxnAdxYu"
      }
    },
    {
      "cell_type": "code",
      "source": [
        "import tensorflow as tf\n",
        "import numpy as np\n",
        "import math\n",
        "import matplotlib.pyplot as plt\n",
        "import os"
      ],
      "metadata": {
        "id": "Z83ZD15NeuND"
      },
      "execution_count": 1,
      "outputs": []
    },
    {
      "cell_type": "markdown",
      "source": [
        "# **Buiding a Generator Model**"
      ],
      "metadata": {
        "id": "vTgDzC-Tw_Gl"
      }
    },
    {
      "cell_type": "markdown",
      "source": [
        "generator model that returns a vector into a candidate image. One of the many issues that commonly arise with **GANs** is that the generator gets stuck with generator gets stuck with generated images look like **noise**."
      ],
      "metadata": {
        "id": "PtJqqWIKxG-l"
      }
    },
    {
      "cell_type": "code",
      "source": [
        "#\n",
        "\n",
        "\n",
        "def build_generator(image_size=28, input_size=100):\n",
        "    \n",
        "    #Build an input layer\n",
        "    gen_input = tf.keras.layers.Input(shape=(input_size,))\n",
        "    \n",
        "    #Increase dimensions and resize to 3D to feed it to Conv2DTranspose layer\n",
        "    x = tf.keras.layers.Dense(7 * 7 * 128)(gen_input)\n",
        "    x = tf.keras.layers.Reshape((7, 7, 128))(x)\n",
        "    \n",
        "    #Use ConvTranspose\n",
        "    x = tf.keras.layers.BatchNormalization()(x)\n",
        "    x = tf.keras.layers.Activation('relu')(x)\n",
        "    x = tf.keras.layers.Conv2DTranspose(128, kernel_size=[5,5], strides=2, padding='same')(x)\n",
        "    \n",
        "    x = tf.keras.layers.BatchNormalization()(x)\n",
        "    x = tf.keras.layers.Activation('relu')(x)\n",
        "    x = tf.keras.layers.Conv2DTranspose(64, kernel_size=[5,5], strides=2, padding='same')(x)\n",
        "    \n",
        "    x = tf.keras.layers.BatchNormalization()(x)\n",
        "    x = tf.keras.layers.Activation('relu')(x)\n",
        "    x = tf.keras.layers.Conv2DTranspose(32, kernel_size=[5,5], strides=1, padding='same')(x)\n",
        "    \n",
        "    x = tf.keras.layers.BatchNormalization()(x)\n",
        "    x = tf.keras.layers.Activation('relu')(x)\n",
        "    x = tf.keras.layers.Conv2DTranspose(1, kernel_size=[5,5], strides=1, padding='same')(x)\n",
        "    \n",
        "    #Output layer for Generator\n",
        "    # for black and white layer\n",
        "    x = tf.keras.layers.Activation('sigmoid')(x)\n",
        "    \n",
        "    #Build model using Model API\n",
        "    generator = tf.keras.models.Model(gen_input, x, name='generator')\n",
        "    \n",
        "    return generator"
      ],
      "metadata": {
        "id": "tkGXPwE7xPLd"
      },
      "execution_count": null,
      "outputs": []
    }
  ]
}